{
 "cells": [
  {
   "cell_type": "code",
   "execution_count": null,
   "metadata": {
    "vscode": {
     "languageId": "plaintext"
    }
   },
   "outputs": [],
   "source": [
    "import pandas as pd\n",
    "import urllib.request\n",
    "import zipfile\n",
    "url = 'https://github.com/mattharrison/datasets/raw/master/data/'\\\n",
    "'kaggle-survey-2018.zip'\n",
    "fname = 'kaggle-survey-2018.zip'\n",
    "member_name = 'multipleChoiceResponses.csv'\n",
    "def extract_zip(src, dst, member_name):\n",
    "\"\"\"Extract a member file from a zip file and read it into a pandas\n",
    "DataFrame.\n",
    "Parameters:\n",
    "src (str): URL of the zip file to be downloaded and extracted.\n",
    "dst (str): Local file path where the zip file will be written.\n",
    "member_name (str): Name of the member file inside the zip file\n",
    "to be read into a DataFrame.\n",
    "Returns:\n",
    "pandas.DataFrame: DataFrame containing the contents of the\n",
    "member file.\n",
    "\"\"\"\n",
    "url = src\n",
    "fname = dst\n",
    "fin = urllib.request.urlopen(url)\n",
    "data = fin.read()\n",
    "with open(dst, mode='wb') as fout:\n",
    "fout.write(data)\n",
    "with zipfile.ZipFile(dst) as z:\n",
    "kag = pd.read_csv(z.open(member_name))\n",
    "kag_questions = kag.iloc[0]\n",
    "raw = kag.iloc[1:]\n",
    "return raw\n",
    "raw = extract_zip(url, fname, member_name)"
   ]
  },
  {
   "cell_type": "code",
   "execution_count": null,
   "metadata": {},
   "outputs": [],
   "source": []
  }
 ],
 "metadata": {
  "language_info": {
   "name": "python"
  }
 },
 "nbformat": 4,
 "nbformat_minor": 2
}
