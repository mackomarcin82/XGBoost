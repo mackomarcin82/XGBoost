{
 "cells": [
  {
   "cell_type": "code",
   "execution_count": 1,
   "metadata": {},
   "outputs": [],
   "source": [
    "import pandas as pd\n",
    "import urllib.request\n",
    "import zipfile\n",
    "url = 'https://github.com/mattharrison/datasets/raw/master/data/'\\\n",
    "'kaggle-survey-2018.zip'\n",
    "fname = 'kaggle-survey-2018.zip'\n",
    "member_name = 'multipleChoiceResponses.csv'\n",
    "def extract_zip(src, dst, member_name):\n",
    "    url = src\n",
    "    fname = dst\n",
    "    fin = urllib.request.urlopen(url)\n",
    "    data = fin.read()\n",
    "    with open(dst, mode='wb') as fout:\n",
    "        fout.write(data)\n",
    "    with zipfile.ZipFile(dst) as z:\n",
    "        kag = pd.read_csv(z.open(member_name),low_memory=False)\n",
    "        kag_questions = kag.iloc[0]\n",
    "        raw = kag.iloc[1:]\n",
    "        return raw\n",
    "\n",
    "raw = extract_zip(url, fname, member_name)"
   ]
  },
  {
   "cell_type": "code",
   "execution_count": 2,
   "metadata": {},
   "outputs": [],
   "source": [
    "def topn(ser, n=5, default='other'):\n",
    "    counts = ser.value_counts()\n",
    "    return ser.where(ser.isin(counts.index[:n]), default)"
   ]
  },
  {
   "cell_type": "code",
   "execution_count": 3,
   "metadata": {},
   "outputs": [],
   "source": [
    "def tweak_kag(df_: pd.DataFrame) -> pd.DataFrame:\n",
    "    \"\"\"\n",
    "    Tweak the Kaggle survey data and return a new DataFrame.\n",
    "    This function takes a Pandas DataFrame containing Kaggle\n",
    "    survey data as input and returns a new DataFrame. The\n",
    "    modifications include extracting and transforming certain\n",
    "    columns, renaming columns, and selecting a subset of columns.\n",
    "    Parameters\n",
    "    ----------\n",
    "    df_ : pd.DataFrame\n",
    "    The input DataFrame containing Kaggle survey data.\n",
    "    Returns\n",
    "    -------\n",
    "    pd.DataFrame\n",
    "    The new DataFrame with the modified and selected columns.\n",
    "    \"\"\"\n",
    "    return (\n",
    "        df_.assign(\n",
    "            age=df_.Q2.str.slice(0,2).astype(int),\n",
    "            education=df_.Q4.replace({'Master’s degree': 18,\n",
    "                'Bachelor’s degree': 16,\n",
    "                'Doctoral degree': 20,\n",
    "                'Some college/university study without earning a bachelor’s degree': 13,\n",
    "                'Professional degree': 19,\n",
    "                'I prefer not to answer': None,\n",
    "                'No formal education past high school': 12}),\n",
    "            major=(df_.Q5\n",
    "                .pipe(topn, n=3)\n",
    "                .replace({\n",
    "                    'Computer science (software engineering, etc.)': 'cs',\n",
    "                    'Engineering (non-computer focused)': 'eng',\n",
    "                    'Mathematics or statistics': 'stat'})\n",
    "                ),\n",
    "            years_exp=(df_.Q8.str.replace('+','', regex=False)\n",
    "                .str.split('-', expand=True)\n",
    "                .iloc[:,0]\n",
    "                .astype(float)),\n",
    "            compensation=(df_.Q9.str.replace('+','', regex=False)\n",
    "                .str.replace(',','', regex=False)\n",
    "                .str.replace('500000', '500', regex=False)\n",
    "                .str.replace('I do not wish to disclose my approximate yearly compensation',\n",
    "                '0', regex=False)\n",
    "                .str.split('-', expand=True)\n",
    "                .iloc[:,0]\n",
    "                .fillna(0)\n",
    "                .astype(int)\n",
    "                .mul(1_000)\n",
    "                ),\n",
    "            python=df_.Q16_Part_1.fillna(0).replace('Python', 1),\n",
    "            r=df_.Q16_Part_2.fillna(0).replace('R', 1),\n",
    "            sql=df_.Q16_Part_3.fillna(0).replace('SQL', 1)\n",
    "        )#assign\n",
    "        .rename(columns=lambda col:col.replace(' ', '_'))\n",
    "        .loc[:, 'Q1,Q3,age,education,major,years_exp,compensation,'\n",
    "        'python,r,sql'.split(',')]\n",
    "    )\n"
   ]
  },
  {
   "cell_type": "code",
   "execution_count": 4,
   "metadata": {},
   "outputs": [],
   "source": [
    "from sklearn import base, pipeline\n",
    "from sklearn.impute import SimpleImputer\n",
    "from sklearn.preprocessing import OneHotEncoder "
   ]
  },
  {
   "cell_type": "code",
   "execution_count": 5,
   "metadata": {},
   "outputs": [],
   "source": [
    "class TweakKagTransformer(base.BaseEstimator, base.TransformerMixin):\n",
    "\n",
    "    def __init__(self, ycol=None):\n",
    "        self.ycol = ycol\n",
    "\n",
    "    def transform(self, X):\n",
    "        return tweak_kag(X)\n",
    "\n",
    "    def fit(self, X, y=None):\n",
    "        return self\n"
   ]
  },
  {
   "cell_type": "code",
   "execution_count": 6,
   "metadata": {},
   "outputs": [],
   "source": [
    "trans=TweakKagTransformer()"
   ]
  },
  {
   "cell_type": "code",
   "execution_count": 7,
   "metadata": {},
   "outputs": [
    {
     "name": "stderr",
     "output_type": "stream",
     "text": [
      "C:\\Users\\Administrator\\AppData\\Local\\Temp\\ipykernel_12448\\3735404497.py:20: FutureWarning: Downcasting behavior in `replace` is deprecated and will be removed in a future version. To retain the old behavior, explicitly call `result.infer_objects(copy=False)`. To opt-in to the future behavior, set `pd.set_option('future.no_silent_downcasting', True)`\n",
      "  education=df_.Q4.replace({'Master’s degree': 18,\n",
      "C:\\Users\\Administrator\\AppData\\Local\\Temp\\ipykernel_12448\\3735404497.py:49: FutureWarning: Downcasting behavior in `replace` is deprecated and will be removed in a future version. To retain the old behavior, explicitly call `result.infer_objects(copy=False)`. To opt-in to the future behavior, set `pd.set_option('future.no_silent_downcasting', True)`\n",
      "  python=df_.Q16_Part_1.fillna(0).replace('Python', 1),\n",
      "C:\\Users\\Administrator\\AppData\\Local\\Temp\\ipykernel_12448\\3735404497.py:50: FutureWarning: Downcasting behavior in `replace` is deprecated and will be removed in a future version. To retain the old behavior, explicitly call `result.infer_objects(copy=False)`. To opt-in to the future behavior, set `pd.set_option('future.no_silent_downcasting', True)`\n",
      "  r=df_.Q16_Part_2.fillna(0).replace('R', 1),\n",
      "C:\\Users\\Administrator\\AppData\\Local\\Temp\\ipykernel_12448\\3735404497.py:51: FutureWarning: Downcasting behavior in `replace` is deprecated and will be removed in a future version. To retain the old behavior, explicitly call `result.infer_objects(copy=False)`. To opt-in to the future behavior, set `pd.set_option('future.no_silent_downcasting', True)`\n",
      "  sql=df_.Q16_Part_3.fillna(0).replace('SQL', 1)\n"
     ]
    },
    {
     "data": {
      "application/vnd.microsoft.datawrangler.viewer.v0+json": {
       "columns": [
        {
         "name": "index",
         "rawType": "int64",
         "type": "integer"
        },
        {
         "name": "Q1",
         "rawType": "object",
         "type": "string"
        },
        {
         "name": "Q3",
         "rawType": "object",
         "type": "string"
        },
        {
         "name": "age",
         "rawType": "int64",
         "type": "integer"
        },
        {
         "name": "education",
         "rawType": "float64",
         "type": "float"
        },
        {
         "name": "major",
         "rawType": "object",
         "type": "string"
        },
        {
         "name": "years_exp",
         "rawType": "float64",
         "type": "float"
        },
        {
         "name": "compensation",
         "rawType": "int64",
         "type": "integer"
        },
        {
         "name": "python",
         "rawType": "int64",
         "type": "integer"
        },
        {
         "name": "r",
         "rawType": "int64",
         "type": "integer"
        },
        {
         "name": "sql",
         "rawType": "int64",
         "type": "integer"
        }
       ],
       "conversionMethod": "pd.DataFrame",
       "ref": "1d0dd6cb-81da-4c37-a692-f8c8be59601e",
       "rows": [
        [
         "1",
         "Female",
         "United States of America",
         "45",
         "20.0",
         "other",
         null,
         "0",
         "0",
         "0",
         "0"
        ],
        [
         "2",
         "Male",
         "Indonesia",
         "30",
         "16.0",
         "eng",
         "5.0",
         "10000",
         "0",
         "0",
         "1"
        ],
        [
         "3",
         "Female",
         "United States of America",
         "30",
         "18.0",
         "cs",
         "0.0",
         "0",
         "0",
         "1",
         "0"
        ],
        [
         "4",
         "Male",
         "United States of America",
         "35",
         "18.0",
         "other",
         null,
         "0",
         "1",
         "1",
         "1"
        ],
        [
         "5",
         "Male",
         "India",
         "22",
         "18.0",
         "stat",
         "0.0",
         "0",
         "0",
         "0",
         "1"
        ],
        [
         "6",
         "Male",
         "Colombia",
         "25",
         "16.0",
         "other",
         "0.0",
         "0",
         "1",
         "0",
         "0"
        ],
        [
         "7",
         "Male",
         "Chile",
         "35",
         "20.0",
         "other",
         "10.0",
         "10000",
         "0",
         "1",
         "0"
        ],
        [
         "8",
         "Male",
         "India",
         "18",
         "18.0",
         "other",
         "0.0",
         "0",
         "1",
         "0",
         "0"
        ],
        [
         "9",
         "Male",
         "Turkey",
         "25",
         "18.0",
         "eng",
         null,
         "0",
         "1",
         "0",
         "0"
        ],
        [
         "10",
         "Male",
         "Hungary",
         "30",
         "18.0",
         "eng",
         "3.0",
         "20000",
         "1",
         "0",
         "1"
        ],
        [
         "11",
         "Male",
         "Ireland",
         "22",
         "16.0",
         "other",
         "3.0",
         "0",
         "1",
         "1",
         "1"
        ],
        [
         "12",
         "Male",
         "United States of America",
         "40",
         "18.0",
         "eng",
         "5.0",
         "125000",
         "1",
         "0",
         "1"
        ],
        [
         "13",
         "Male",
         "France",
         "25",
         "20.0",
         "stat",
         null,
         "30000",
         "1",
         "1",
         "1"
        ],
        [
         "14",
         "Male",
         "United States of America",
         "25",
         "16.0",
         "stat",
         "1.0",
         "30000",
         "1",
         "1",
         "1"
        ],
        [
         "15",
         "Female",
         "Argentina",
         "25",
         "16.0",
         "other",
         "1.0",
         "10000",
         "1",
         "1",
         "1"
        ],
        [
         "16",
         "Male",
         "Japan",
         "25",
         "18.0",
         "eng",
         "0.0",
         "30000",
         "1",
         "0",
         "0"
        ],
        [
         "17",
         "Male",
         "Colombia",
         "40",
         "18.0",
         "other",
         "1.0",
         "50000",
         "0",
         "1",
         "0"
        ],
        [
         "18",
         "Male",
         "Nigeria",
         "25",
         "19.0",
         "other",
         "2.0",
         "0",
         "1",
         "0",
         "0"
        ],
        [
         "19",
         "Male",
         "United States of America",
         "35",
         "13.0",
         "cs",
         "5.0",
         "100000",
         "1",
         "0",
         "1"
        ],
        [
         "20",
         "Male",
         "Spain",
         "55",
         "13.0",
         "other",
         "5.0",
         "30000",
         "1",
         "0",
         "0"
        ],
        [
         "21",
         "Female",
         "Other",
         "30",
         "18.0",
         "eng",
         "0.0",
         "50000",
         "0",
         "1",
         "1"
        ],
        [
         "22",
         "Female",
         "Nigeria",
         "25",
         "16.0",
         "other",
         null,
         "0",
         "1",
         "0",
         "0"
        ],
        [
         "23",
         "Male",
         "United States of America",
         "30",
         "16.0",
         "other",
         "2.0",
         "90000",
         "1",
         "1",
         "1"
        ],
        [
         "24",
         "Female",
         "Iran, Islamic Republic of...",
         "25",
         "18.0",
         "cs",
         "0.0",
         "0",
         "1",
         "0",
         "0"
        ],
        [
         "25",
         "Male",
         "United Kingdom of Great Britain and Northern Ireland",
         "30",
         "18.0",
         "stat",
         "5.0",
         "70000",
         "1",
         "1",
         "0"
        ],
        [
         "26",
         "Male",
         "Turkey",
         "25",
         "18.0",
         "other",
         "1.0",
         "0",
         "1",
         "0",
         "0"
        ],
        [
         "27",
         "Male",
         "India",
         "30",
         "16.0",
         "eng",
         "2.0",
         "0",
         "1",
         "1",
         "1"
        ],
        [
         "28",
         "Female",
         "United States of America",
         "30",
         "18.0",
         "other",
         "2.0",
         "80000",
         "1",
         "1",
         "1"
        ],
        [
         "29",
         "Female",
         "Poland",
         "40",
         "18.0",
         "stat",
         "10.0",
         "10000",
         "0",
         "0",
         "1"
        ],
        [
         "30",
         "Female",
         "Kenya",
         "25",
         "16.0",
         "cs",
         "2.0",
         "10000",
         "1",
         "0",
         "0"
        ],
        [
         "31",
         "Male",
         "India",
         "18",
         "13.0",
         "cs",
         "0.0",
         "0",
         "1",
         "0",
         "0"
        ],
        [
         "32",
         "Male",
         "Denmark",
         "30",
         "18.0",
         "other",
         "1.0",
         "70000",
         "0",
         "0",
         "0"
        ],
        [
         "33",
         "Male",
         "Netherlands",
         "35",
         "18.0",
         "cs",
         "0.0",
         "100000",
         "1",
         "0",
         "1"
        ],
        [
         "34",
         "Female",
         "China",
         "25",
         "18.0",
         "cs",
         "2.0",
         "0",
         "1",
         "0",
         "0"
        ],
        [
         "35",
         "Female",
         "Sweden",
         "25",
         "18.0",
         "stat",
         "1.0",
         "60000",
         "1",
         "0",
         "1"
        ],
        [
         "36",
         "Male",
         "Ukraine",
         "30",
         "18.0",
         "cs",
         "5.0",
         "90000",
         "1",
         "0",
         "0"
        ],
        [
         "37",
         "Male",
         "India",
         "40",
         "16.0",
         "eng",
         "10.0",
         "0",
         "1",
         "1",
         "0"
        ],
        [
         "38",
         "Male",
         "Canada",
         "22",
         "20.0",
         "eng",
         "0.0",
         "30000",
         "1",
         "0",
         "0"
        ],
        [
         "39",
         "Male",
         "Australia",
         "30",
         "20.0",
         "other",
         "2.0",
         "80000",
         "0",
         "1",
         "0"
        ],
        [
         "40",
         "Male",
         "United States of America",
         "22",
         "16.0",
         "cs",
         "3.0",
         "10000",
         "1",
         "0",
         "1"
        ],
        [
         "41",
         "Male",
         "United States of America",
         "40",
         "20.0",
         "cs",
         "10.0",
         "400000",
         "1",
         "0",
         "0"
        ],
        [
         "42",
         "Male",
         "Japan",
         "25",
         "18.0",
         "cs",
         "1.0",
         "40000",
         "1",
         "0",
         "0"
        ],
        [
         "43",
         "Male",
         "Other",
         "22",
         "18.0",
         "other",
         "0.0",
         "0",
         "1",
         "0",
         "0"
        ],
        [
         "44",
         "Male",
         "India",
         "22",
         "18.0",
         "cs",
         null,
         "0",
         "1",
         "1",
         "1"
        ],
        [
         "45",
         "Male",
         "Russia",
         "30",
         "18.0",
         "other",
         "10.0",
         "10000",
         "1",
         "0",
         "1"
        ],
        [
         "46",
         "Male",
         "India",
         "18",
         "16.0",
         "cs",
         "15.0",
         "0",
         "1",
         "0",
         "0"
        ],
        [
         "47",
         "Male",
         "Iran, Islamic Republic of...",
         "35",
         "18.0",
         "other",
         "5.0",
         "0",
         "0",
         "0",
         "1"
        ],
        [
         "48",
         "Male",
         "India",
         "18",
         "16.0",
         "cs",
         "0.0",
         "0",
         "1",
         "1",
         "1"
        ],
        [
         "49",
         "Male",
         "Austria",
         "45",
         "19.0",
         "stat",
         "5.0",
         "0",
         "0",
         "1",
         "0"
        ],
        [
         "50",
         "Male",
         "Italy",
         "25",
         "18.0",
         "other",
         "1.0",
         "10000",
         "1",
         "1",
         "0"
        ]
       ],
       "shape": {
        "columns": 10,
        "rows": 23859
       }
      },
      "text/html": [
       "<div>\n",
       "<style scoped>\n",
       "    .dataframe tbody tr th:only-of-type {\n",
       "        vertical-align: middle;\n",
       "    }\n",
       "\n",
       "    .dataframe tbody tr th {\n",
       "        vertical-align: top;\n",
       "    }\n",
       "\n",
       "    .dataframe thead th {\n",
       "        text-align: right;\n",
       "    }\n",
       "</style>\n",
       "<table border=\"1\" class=\"dataframe\">\n",
       "  <thead>\n",
       "    <tr style=\"text-align: right;\">\n",
       "      <th></th>\n",
       "      <th>Q1</th>\n",
       "      <th>Q3</th>\n",
       "      <th>age</th>\n",
       "      <th>education</th>\n",
       "      <th>major</th>\n",
       "      <th>years_exp</th>\n",
       "      <th>compensation</th>\n",
       "      <th>python</th>\n",
       "      <th>r</th>\n",
       "      <th>sql</th>\n",
       "    </tr>\n",
       "  </thead>\n",
       "  <tbody>\n",
       "    <tr>\n",
       "      <th>1</th>\n",
       "      <td>Female</td>\n",
       "      <td>United States of America</td>\n",
       "      <td>45</td>\n",
       "      <td>20.0</td>\n",
       "      <td>other</td>\n",
       "      <td>NaN</td>\n",
       "      <td>0</td>\n",
       "      <td>0</td>\n",
       "      <td>0</td>\n",
       "      <td>0</td>\n",
       "    </tr>\n",
       "    <tr>\n",
       "      <th>2</th>\n",
       "      <td>Male</td>\n",
       "      <td>Indonesia</td>\n",
       "      <td>30</td>\n",
       "      <td>16.0</td>\n",
       "      <td>eng</td>\n",
       "      <td>5.0</td>\n",
       "      <td>10000</td>\n",
       "      <td>0</td>\n",
       "      <td>0</td>\n",
       "      <td>1</td>\n",
       "    </tr>\n",
       "    <tr>\n",
       "      <th>3</th>\n",
       "      <td>Female</td>\n",
       "      <td>United States of America</td>\n",
       "      <td>30</td>\n",
       "      <td>18.0</td>\n",
       "      <td>cs</td>\n",
       "      <td>0.0</td>\n",
       "      <td>0</td>\n",
       "      <td>0</td>\n",
       "      <td>1</td>\n",
       "      <td>0</td>\n",
       "    </tr>\n",
       "    <tr>\n",
       "      <th>4</th>\n",
       "      <td>Male</td>\n",
       "      <td>United States of America</td>\n",
       "      <td>35</td>\n",
       "      <td>18.0</td>\n",
       "      <td>other</td>\n",
       "      <td>NaN</td>\n",
       "      <td>0</td>\n",
       "      <td>1</td>\n",
       "      <td>1</td>\n",
       "      <td>1</td>\n",
       "    </tr>\n",
       "    <tr>\n",
       "      <th>5</th>\n",
       "      <td>Male</td>\n",
       "      <td>India</td>\n",
       "      <td>22</td>\n",
       "      <td>18.0</td>\n",
       "      <td>stat</td>\n",
       "      <td>0.0</td>\n",
       "      <td>0</td>\n",
       "      <td>0</td>\n",
       "      <td>0</td>\n",
       "      <td>1</td>\n",
       "    </tr>\n",
       "    <tr>\n",
       "      <th>...</th>\n",
       "      <td>...</td>\n",
       "      <td>...</td>\n",
       "      <td>...</td>\n",
       "      <td>...</td>\n",
       "      <td>...</td>\n",
       "      <td>...</td>\n",
       "      <td>...</td>\n",
       "      <td>...</td>\n",
       "      <td>...</td>\n",
       "      <td>...</td>\n",
       "    </tr>\n",
       "    <tr>\n",
       "      <th>23855</th>\n",
       "      <td>Male</td>\n",
       "      <td>France</td>\n",
       "      <td>45</td>\n",
       "      <td>20.0</td>\n",
       "      <td>cs</td>\n",
       "      <td>5.0</td>\n",
       "      <td>250000</td>\n",
       "      <td>1</td>\n",
       "      <td>1</td>\n",
       "      <td>1</td>\n",
       "    </tr>\n",
       "    <tr>\n",
       "      <th>23856</th>\n",
       "      <td>Female</td>\n",
       "      <td>Turkey</td>\n",
       "      <td>25</td>\n",
       "      <td>18.0</td>\n",
       "      <td>eng</td>\n",
       "      <td>NaN</td>\n",
       "      <td>0</td>\n",
       "      <td>0</td>\n",
       "      <td>0</td>\n",
       "      <td>0</td>\n",
       "    </tr>\n",
       "    <tr>\n",
       "      <th>23857</th>\n",
       "      <td>Male</td>\n",
       "      <td>Turkey</td>\n",
       "      <td>22</td>\n",
       "      <td>18.0</td>\n",
       "      <td>cs</td>\n",
       "      <td>0.0</td>\n",
       "      <td>10000</td>\n",
       "      <td>0</td>\n",
       "      <td>0</td>\n",
       "      <td>0</td>\n",
       "    </tr>\n",
       "    <tr>\n",
       "      <th>23858</th>\n",
       "      <td>Male</td>\n",
       "      <td>United Kingdom of Great Britain and Northern I...</td>\n",
       "      <td>25</td>\n",
       "      <td>NaN</td>\n",
       "      <td>other</td>\n",
       "      <td>NaN</td>\n",
       "      <td>0</td>\n",
       "      <td>0</td>\n",
       "      <td>0</td>\n",
       "      <td>0</td>\n",
       "    </tr>\n",
       "    <tr>\n",
       "      <th>23859</th>\n",
       "      <td>Male</td>\n",
       "      <td>Spain</td>\n",
       "      <td>25</td>\n",
       "      <td>18.0</td>\n",
       "      <td>stat</td>\n",
       "      <td>NaN</td>\n",
       "      <td>0</td>\n",
       "      <td>0</td>\n",
       "      <td>0</td>\n",
       "      <td>0</td>\n",
       "    </tr>\n",
       "  </tbody>\n",
       "</table>\n",
       "<p>23859 rows × 10 columns</p>\n",
       "</div>"
      ],
      "text/plain": [
       "           Q1                                                 Q3  age  \\\n",
       "1      Female                           United States of America   45   \n",
       "2        Male                                          Indonesia   30   \n",
       "3      Female                           United States of America   30   \n",
       "4        Male                           United States of America   35   \n",
       "5        Male                                              India   22   \n",
       "...       ...                                                ...  ...   \n",
       "23855    Male                                             France   45   \n",
       "23856  Female                                             Turkey   25   \n",
       "23857    Male                                             Turkey   22   \n",
       "23858    Male  United Kingdom of Great Britain and Northern I...   25   \n",
       "23859    Male                                              Spain   25   \n",
       "\n",
       "       education  major  years_exp  compensation  python  r  sql  \n",
       "1           20.0  other        NaN             0       0  0    0  \n",
       "2           16.0    eng        5.0         10000       0  0    1  \n",
       "3           18.0     cs        0.0             0       0  1    0  \n",
       "4           18.0  other        NaN             0       1  1    1  \n",
       "5           18.0   stat        0.0             0       0  0    1  \n",
       "...          ...    ...        ...           ...     ... ..  ...  \n",
       "23855       20.0     cs        5.0        250000       1  1    1  \n",
       "23856       18.0    eng        NaN             0       0  0    0  \n",
       "23857       18.0     cs        0.0         10000       0  0    0  \n",
       "23858        NaN  other        NaN             0       0  0    0  \n",
       "23859       18.0   stat        NaN             0       0  0    0  \n",
       "\n",
       "[23859 rows x 10 columns]"
      ]
     },
     "execution_count": 7,
     "metadata": {},
     "output_type": "execute_result"
    }
   ],
   "source": [
    "trans.fit_transform(raw)"
   ]
  },
  {
   "cell_type": "code",
   "execution_count": 8,
   "metadata": {},
   "outputs": [],
   "source": [
    "def get_rawX_y(df, y_col):\n",
    "    raw = (df\n",
    "    .query('Q3.isin([\"United States of America\", \"China\", \"India\"]) '\n",
    "    'and Q6.isin([\"Data Scientist\", \"Software Engineer\"])')\n",
    "    )\n",
    "    return raw.drop(columns=[y_col]), raw[y_col]"
   ]
  },
  {
   "cell_type": "code",
   "execution_count": 9,
   "metadata": {},
   "outputs": [
    {
     "name": "stdout",
     "output_type": "stream",
     "text": [
      "Requirement already satisfied: feature_engine in c:\\users\\administrator\\appdata\\local\\programs\\python\\python313\\lib\\site-packages (1.8.3)\n",
      "Requirement already satisfied: numpy>=1.18.2 in c:\\users\\administrator\\appdata\\local\\programs\\python\\python313\\lib\\site-packages (from feature_engine) (2.2.3)\n",
      "Requirement already satisfied: pandas>=2.2.0 in c:\\users\\administrator\\appdata\\local\\programs\\python\\python313\\lib\\site-packages (from feature_engine) (2.2.3)\n",
      "Requirement already satisfied: scikit-learn>=1.4.0 in c:\\users\\administrator\\appdata\\local\\programs\\python\\python313\\lib\\site-packages (from feature_engine) (1.6.1)\n",
      "Requirement already satisfied: scipy>=1.4.1 in c:\\users\\administrator\\appdata\\local\\programs\\python\\python313\\lib\\site-packages (from feature_engine) (1.15.2)\n",
      "Requirement already satisfied: statsmodels>=0.11.1 in c:\\users\\administrator\\appdata\\local\\programs\\python\\python313\\lib\\site-packages (from feature_engine) (0.14.4)\n",
      "Requirement already satisfied: python-dateutil>=2.8.2 in c:\\users\\administrator\\appdata\\roaming\\python\\python313\\site-packages (from pandas>=2.2.0->feature_engine) (2.9.0.post0)\n",
      "Requirement already satisfied: pytz>=2020.1 in c:\\users\\administrator\\appdata\\local\\programs\\python\\python313\\lib\\site-packages (from pandas>=2.2.0->feature_engine) (2025.1)\n",
      "Requirement already satisfied: tzdata>=2022.7 in c:\\users\\administrator\\appdata\\local\\programs\\python\\python313\\lib\\site-packages (from pandas>=2.2.0->feature_engine) (2025.1)\n",
      "Requirement already satisfied: joblib>=1.2.0 in c:\\users\\administrator\\appdata\\local\\programs\\python\\python313\\lib\\site-packages (from scikit-learn>=1.4.0->feature_engine) (1.4.2)\n",
      "Requirement already satisfied: threadpoolctl>=3.1.0 in c:\\users\\administrator\\appdata\\local\\programs\\python\\python313\\lib\\site-packages (from scikit-learn>=1.4.0->feature_engine) (3.6.0)\n",
      "Requirement already satisfied: patsy>=0.5.6 in c:\\users\\administrator\\appdata\\local\\programs\\python\\python313\\lib\\site-packages (from statsmodels>=0.11.1->feature_engine) (1.0.1)\n",
      "Requirement already satisfied: packaging>=21.3 in c:\\users\\administrator\\appdata\\roaming\\python\\python313\\site-packages (from statsmodels>=0.11.1->feature_engine) (24.2)\n",
      "Requirement already satisfied: six>=1.5 in c:\\users\\administrator\\appdata\\roaming\\python\\python313\\site-packages (from python-dateutil>=2.8.2->pandas>=2.2.0->feature_engine) (1.17.0)\n",
      "Note: you may need to restart the kernel to use updated packages.\n"
     ]
    },
    {
     "name": "stderr",
     "output_type": "stream",
     "text": [
      "\n",
      "[notice] A new release of pip is available: 24.3.1 -> 25.0.1\n",
      "[notice] To update, run: python.exe -m pip install --upgrade pip\n"
     ]
    }
   ],
   "source": [
    "%pip install feature_engine"
   ]
  },
  {
   "cell_type": "code",
   "execution_count": 10,
   "metadata": {},
   "outputs": [],
   "source": [
    "from feature_engine import encoding, imputation"
   ]
  },
  {
   "cell_type": "code",
   "execution_count": 11,
   "metadata": {},
   "outputs": [],
   "source": [
    "## Create a pipeline\n",
    "kag_pl = pipeline.Pipeline(\n",
    "    [('tweak', TweakKagTransformer()),\n",
    "    ('cat', encoding.OneHotEncoder(top_categories=5,\n",
    "    variables=['Q1', 'Q3', 'major'])),\n",
    "    ('num_impute', imputation.MeanMedianImputer(imputation_method='median',\n",
    "                                                variables=['education', 'years_exp']))]\n",
    ")"
   ]
  },
  {
   "cell_type": "code",
   "execution_count": 12,
   "metadata": {},
   "outputs": [],
   "source": [
    "from sklearn import model_selection\n",
    "kag_X, kag_y = get_rawX_y(raw, 'Q6')"
   ]
  },
  {
   "cell_type": "code",
   "execution_count": 13,
   "metadata": {},
   "outputs": [],
   "source": [
    "kag_X_train, kag_X_test, kag_y_train, kag_y_test = \\\n",
    "model_selection.train_test_split(\n",
    "kag_X, kag_y, test_size=.3, random_state=42, stratify=kag_y)"
   ]
  },
  {
   "cell_type": "code",
   "execution_count": 14,
   "metadata": {},
   "outputs": [
    {
     "name": "stderr",
     "output_type": "stream",
     "text": [
      "C:\\Users\\Administrator\\AppData\\Local\\Temp\\ipykernel_12448\\3735404497.py:20: FutureWarning: Downcasting behavior in `replace` is deprecated and will be removed in a future version. To retain the old behavior, explicitly call `result.infer_objects(copy=False)`. To opt-in to the future behavior, set `pd.set_option('future.no_silent_downcasting', True)`\n",
      "  education=df_.Q4.replace({'Master’s degree': 18,\n",
      "C:\\Users\\Administrator\\AppData\\Local\\Temp\\ipykernel_12448\\3735404497.py:49: FutureWarning: Downcasting behavior in `replace` is deprecated and will be removed in a future version. To retain the old behavior, explicitly call `result.infer_objects(copy=False)`. To opt-in to the future behavior, set `pd.set_option('future.no_silent_downcasting', True)`\n",
      "  python=df_.Q16_Part_1.fillna(0).replace('Python', 1),\n",
      "C:\\Users\\Administrator\\AppData\\Local\\Temp\\ipykernel_12448\\3735404497.py:50: FutureWarning: Downcasting behavior in `replace` is deprecated and will be removed in a future version. To retain the old behavior, explicitly call `result.infer_objects(copy=False)`. To opt-in to the future behavior, set `pd.set_option('future.no_silent_downcasting', True)`\n",
      "  r=df_.Q16_Part_2.fillna(0).replace('R', 1),\n",
      "C:\\Users\\Administrator\\AppData\\Local\\Temp\\ipykernel_12448\\3735404497.py:51: FutureWarning: Downcasting behavior in `replace` is deprecated and will be removed in a future version. To retain the old behavior, explicitly call `result.infer_objects(copy=False)`. To opt-in to the future behavior, set `pd.set_option('future.no_silent_downcasting', True)`\n",
      "  sql=df_.Q16_Part_3.fillna(0).replace('SQL', 1)\n"
     ]
    }
   ],
   "source": [
    "X_train = kag_pl.fit_transform(kag_X_train, kag_y_train)"
   ]
  },
  {
   "cell_type": "code",
   "execution_count": 15,
   "metadata": {},
   "outputs": [
    {
     "name": "stderr",
     "output_type": "stream",
     "text": [
      "C:\\Users\\Administrator\\AppData\\Local\\Temp\\ipykernel_12448\\3735404497.py:20: FutureWarning: Downcasting behavior in `replace` is deprecated and will be removed in a future version. To retain the old behavior, explicitly call `result.infer_objects(copy=False)`. To opt-in to the future behavior, set `pd.set_option('future.no_silent_downcasting', True)`\n",
      "  education=df_.Q4.replace({'Master’s degree': 18,\n",
      "C:\\Users\\Administrator\\AppData\\Local\\Temp\\ipykernel_12448\\3735404497.py:49: FutureWarning: Downcasting behavior in `replace` is deprecated and will be removed in a future version. To retain the old behavior, explicitly call `result.infer_objects(copy=False)`. To opt-in to the future behavior, set `pd.set_option('future.no_silent_downcasting', True)`\n",
      "  python=df_.Q16_Part_1.fillna(0).replace('Python', 1),\n",
      "C:\\Users\\Administrator\\AppData\\Local\\Temp\\ipykernel_12448\\3735404497.py:50: FutureWarning: Downcasting behavior in `replace` is deprecated and will be removed in a future version. To retain the old behavior, explicitly call `result.infer_objects(copy=False)`. To opt-in to the future behavior, set `pd.set_option('future.no_silent_downcasting', True)`\n",
      "  r=df_.Q16_Part_2.fillna(0).replace('R', 1),\n",
      "C:\\Users\\Administrator\\AppData\\Local\\Temp\\ipykernel_12448\\3735404497.py:51: FutureWarning: Downcasting behavior in `replace` is deprecated and will be removed in a future version. To retain the old behavior, explicitly call `result.infer_objects(copy=False)`. To opt-in to the future behavior, set `pd.set_option('future.no_silent_downcasting', True)`\n",
      "  sql=df_.Q16_Part_3.fillna(0).replace('SQL', 1)\n"
     ]
    }
   ],
   "source": [
    "X_test = kag_pl.transform(kag_X_test)"
   ]
  },
  {
   "cell_type": "code",
   "execution_count": 16,
   "metadata": {},
   "outputs": [],
   "source": [
    "from sklearn import tree"
   ]
  },
  {
   "cell_type": "code",
   "execution_count": 17,
   "metadata": {},
   "outputs": [],
   "source": [
    "import matplotlib.pyplot as plt"
   ]
  },
  {
   "cell_type": "code",
   "execution_count": 20,
   "metadata": {},
   "outputs": [],
   "source": [
    "import seaborn as sns\n",
    "from seaborn import objects as so"
   ]
  },
  {
   "cell_type": "code",
   "execution_count": 21,
   "metadata": {},
   "outputs": [],
   "source": [
    "accuracies=[]\n",
    "\n",
    "for depth in range(1,15):\n",
    "    between=tree.DecisionTreeClassifier(max_depth=depth)\n",
    "    between.fit(X_train,kag_y_train)\n",
    "    accuracies.append(between.score(X_test,kag_y_test))\n",
    "\n"
   ]
  },
  {
   "cell_type": "code",
   "execution_count": 32,
   "metadata": {},
   "outputs": [],
   "source": [
    "df=pd.DataFrame(accuracies,columns=['accuracy'], index=range(1, len(accuracies)+1))"
   ]
  },
  {
   "cell_type": "code",
   "execution_count": 33,
   "metadata": {},
   "outputs": [
    {
     "data": {
      "application/vnd.microsoft.datawrangler.viewer.v0+json": {
       "columns": [
        {
         "name": "index",
         "rawType": "int64",
         "type": "integer"
        },
        {
         "name": "accuracy",
         "rawType": "float64",
         "type": "float"
        }
       ],
       "conversionMethod": "pd.DataFrame",
       "ref": "27a0adbe-03c5-4be0-87ac-bb6a0288c52d",
       "rows": [
        [
         "1",
         "0.6243093922651933"
        ],
        [
         "2",
         "0.6928176795580111"
        ],
        [
         "3",
         "0.6994475138121546"
        ],
        [
         "4",
         "0.7138121546961326"
        ],
        [
         "5",
         "0.7281767955801105"
        ],
        [
         "6",
         "0.7226519337016575"
        ],
        [
         "7",
         "0.7348066298342542"
        ],
        [
         "8",
         "0.7259668508287292"
        ],
        [
         "9",
         "0.7226519337016575"
        ],
        [
         "10",
         "0.7027624309392265"
        ],
        [
         "11",
         "0.7071823204419889"
        ],
        [
         "12",
         "0.7082872928176795"
        ],
        [
         "13",
         "0.6906077348066298"
        ],
        [
         "14",
         "0.6729281767955801"
        ]
       ],
       "shape": {
        "columns": 1,
        "rows": 14
       }
      },
      "text/html": [
       "<div>\n",
       "<style scoped>\n",
       "    .dataframe tbody tr th:only-of-type {\n",
       "        vertical-align: middle;\n",
       "    }\n",
       "\n",
       "    .dataframe tbody tr th {\n",
       "        vertical-align: top;\n",
       "    }\n",
       "\n",
       "    .dataframe thead th {\n",
       "        text-align: right;\n",
       "    }\n",
       "</style>\n",
       "<table border=\"1\" class=\"dataframe\">\n",
       "  <thead>\n",
       "    <tr style=\"text-align: right;\">\n",
       "      <th></th>\n",
       "      <th>accuracy</th>\n",
       "    </tr>\n",
       "  </thead>\n",
       "  <tbody>\n",
       "    <tr>\n",
       "      <th>1</th>\n",
       "      <td>0.624309</td>\n",
       "    </tr>\n",
       "    <tr>\n",
       "      <th>2</th>\n",
       "      <td>0.692818</td>\n",
       "    </tr>\n",
       "    <tr>\n",
       "      <th>3</th>\n",
       "      <td>0.699448</td>\n",
       "    </tr>\n",
       "    <tr>\n",
       "      <th>4</th>\n",
       "      <td>0.713812</td>\n",
       "    </tr>\n",
       "    <tr>\n",
       "      <th>5</th>\n",
       "      <td>0.728177</td>\n",
       "    </tr>\n",
       "    <tr>\n",
       "      <th>6</th>\n",
       "      <td>0.722652</td>\n",
       "    </tr>\n",
       "    <tr>\n",
       "      <th>7</th>\n",
       "      <td>0.734807</td>\n",
       "    </tr>\n",
       "    <tr>\n",
       "      <th>8</th>\n",
       "      <td>0.725967</td>\n",
       "    </tr>\n",
       "    <tr>\n",
       "      <th>9</th>\n",
       "      <td>0.722652</td>\n",
       "    </tr>\n",
       "    <tr>\n",
       "      <th>10</th>\n",
       "      <td>0.702762</td>\n",
       "    </tr>\n",
       "    <tr>\n",
       "      <th>11</th>\n",
       "      <td>0.707182</td>\n",
       "    </tr>\n",
       "    <tr>\n",
       "      <th>12</th>\n",
       "      <td>0.708287</td>\n",
       "    </tr>\n",
       "    <tr>\n",
       "      <th>13</th>\n",
       "      <td>0.690608</td>\n",
       "    </tr>\n",
       "    <tr>\n",
       "      <th>14</th>\n",
       "      <td>0.672928</td>\n",
       "    </tr>\n",
       "  </tbody>\n",
       "</table>\n",
       "</div>"
      ],
      "text/plain": [
       "    accuracy\n",
       "1   0.624309\n",
       "2   0.692818\n",
       "3   0.699448\n",
       "4   0.713812\n",
       "5   0.728177\n",
       "6   0.722652\n",
       "7   0.734807\n",
       "8   0.725967\n",
       "9   0.722652\n",
       "10  0.702762\n",
       "11  0.707182\n",
       "12  0.708287\n",
       "13  0.690608\n",
       "14  0.672928"
      ]
     },
     "execution_count": 33,
     "metadata": {},
     "output_type": "execute_result"
    }
   ],
   "source": [
    "df"
   ]
  },
  {
   "cell_type": "code",
   "execution_count": 35,
   "metadata": {},
   "outputs": [
    {
     "data": {
      "image/png": "[encoded data removed]",
      "text/plain": [
       "<seaborn._core.plot.Plot at 0x1a587778160>"
      ]
     },
     "execution_count": 35,
     "metadata": {
      "image/png": {
       "height": 378.25,
       "width": 509.15
      }
     },
     "output_type": "execute_result"
    }
   ],
   "source": [
    "\n",
    "(\n",
    "    so.Plot(df,x=df.index,y='accuracy')\n",
    "    .add(so.Line())\n",
    ")"
   ]
  },
  {
   "cell_type": "code",
   "execution_count": 36,
   "metadata": {},
   "outputs": [
    {
     "data": {
      "text/plain": [
       "0.7359116022099448"
      ]
     },
     "execution_count": 36,
     "metadata": {},
     "output_type": "execute_result"
    }
   ],
   "source": [
    "between=tree.DecisionTreeClassifier(max_depth=7)\n",
    "between.fit(X_train,kag_y_train)\n",
    "between.score(X_test,kag_y_test)\n"
   ]
  },
  {
   "cell_type": "code",
   "execution_count": 41,
   "metadata": {},
   "outputs": [
    {
     "name": "stdout",
     "output_type": "stream",
     "text": [
      "Collecting yellowbrick\n",
      "  Downloading yellowbrick-1.5-py3-none-any.whl.metadata (7.7 kB)\n",
      "Requirement already satisfied: matplotlib!=3.0.0,>=2.0.2 in c:\\users\\administrator\\appdata\\local\\programs\\python\\python313\\lib\\site-packages (from yellowbrick) (3.10.1)\n",
      "Requirement already satisfied: scipy>=1.0.0 in c:\\users\\administrator\\appdata\\local\\programs\\python\\python313\\lib\\site-packages (from yellowbrick) (1.15.2)\n",
      "Requirement already satisfied: scikit-learn>=1.0.0 in c:\\users\\administrator\\appdata\\local\\programs\\python\\python313\\lib\\site-packages (from yellowbrick) (1.6.1)\n",
      "Requirement already satisfied: numpy>=1.16.0 in c:\\users\\administrator\\appdata\\local\\programs\\python\\python313\\lib\\site-packages (from yellowbrick) (2.2.3)\n",
      "Requirement already satisfied: cycler>=0.10.0 in c:\\users\\administrator\\appdata\\local\\programs\\python\\python313\\lib\\site-packages (from yellowbrick) (0.12.1)\n",
      "Requirement already satisfied: contourpy>=1.0.1 in c:\\users\\administrator\\appdata\\local\\programs\\python\\python313\\lib\\site-packages (from matplotlib!=3.0.0,>=2.0.2->yellowbrick) (1.3.1)\n",
      "Requirement already satisfied: fonttools>=4.22.0 in c:\\users\\administrator\\appdata\\local\\programs\\python\\python313\\lib\\site-packages (from matplotlib!=3.0.0,>=2.0.2->yellowbrick) (4.56.0)\n",
      "Requirement already satisfied: kiwisolver>=1.3.1 in c:\\users\\administrator\\appdata\\local\\programs\\python\\python313\\lib\\site-packages (from matplotlib!=3.0.0,>=2.0.2->yellowbrick) (1.4.8)\n",
      "Requirement already satisfied: packaging>=20.0 in c:\\users\\administrator\\appdata\\roaming\\python\\python313\\site-packages (from matplotlib!=3.0.0,>=2.0.2->yellowbrick) (24.2)\n",
      "Requirement already satisfied: pillow>=8 in c:\\users\\administrator\\appdata\\local\\programs\\python\\python313\\lib\\site-packages (from matplotlib!=3.0.0,>=2.0.2->yellowbrick) (11.1.0)\n",
      "Requirement already satisfied: pyparsing>=2.3.1 in c:\\users\\administrator\\appdata\\local\\programs\\python\\python313\\lib\\site-packages (from matplotlib!=3.0.0,>=2.0.2->yellowbrick) (3.2.1)\n",
      "Requirement already satisfied: python-dateutil>=2.7 in c:\\users\\administrator\\appdata\\roaming\\python\\python313\\site-packages (from matplotlib!=3.0.0,>=2.0.2->yellowbrick) (2.9.0.post0)\n",
      "Requirement already satisfied: joblib>=1.2.0 in c:\\users\\administrator\\appdata\\local\\programs\\python\\python313\\lib\\site-packages (from scikit-learn>=1.0.0->yellowbrick) (1.4.2)\n",
      "Requirement already satisfied: threadpoolctl>=3.1.0 in c:\\users\\administrator\\appdata\\local\\programs\\python\\python313\\lib\\site-packages (from scikit-learn>=1.0.0->yellowbrick) (3.6.0)\n",
      "Requirement already satisfied: six>=1.5 in c:\\users\\administrator\\appdata\\roaming\\python\\python313\\site-packages (from python-dateutil>=2.7->matplotlib!=3.0.0,>=2.0.2->yellowbrick) (1.17.0)\n",
      "Downloading yellowbrick-1.5-py3-none-any.whl (282 kB)\n",
      "Installing collected packages: yellowbrick\n",
      "Successfully installed yellowbrick-1.5\n",
      "Note: you may need to restart the kernel to use updated packages.\n"
     ]
    },
    {
     "name": "stderr",
     "output_type": "stream",
     "text": [
      "\n",
      "[notice] A new release of pip is available: 24.3.1 -> 25.0.1\n",
      "[notice] To update, run: python.exe -m pip install --upgrade pip\n"
     ]
    }
   ],
   "source": [
    "%pip install yellowbrick"
   ]
  },
  {
   "cell_type": "code",
   "execution_count": 43,
   "metadata": {},
   "outputs": [
    {
     "name": "stdout",
     "output_type": "stream",
     "text": [
      "Collecting setuptools\n",
      "  Downloading setuptools-78.1.0-py3-none-any.whl.metadata (6.6 kB)\n",
      "Downloading setuptools-78.1.0-py3-none-any.whl (1.3 MB)\n",
      "   ---------------------------------------- 0.0/1.3 MB ? eta -:--:--\n",
      "   -------- ------------------------------- 0.3/1.3 MB ? eta -:--:--\n",
      "   --------------------------------- ------ 1.0/1.3 MB 3.0 MB/s eta 0:00:01\n",
      "   ---------------------------------------- 1.3/1.3 MB 3.0 MB/s eta 0:00:00\n",
      "Installing collected packages: setuptools\n",
      "Successfully installed setuptools-78.1.0\n",
      "Note: you may need to restart the kernel to use updated packages.\n"
     ]
    },
    {
     "name": "stderr",
     "output_type": "stream",
     "text": [
      "\n",
      "[notice] A new release of pip is available: 24.3.1 -> 25.0.1\n",
      "[notice] To update, run: python.exe -m pip install --upgrade pip\n"
     ]
    }
   ],
   "source": [
    "%pip install setuptools"
   ]
  },
  {
   "cell_type": "code",
   "execution_count": 44,
   "metadata": {},
   "outputs": [
    {
     "ename": "ModuleNotFoundError",
     "evalue": "No module named 'distutils'",
     "output_type": "error",
     "traceback": [
      "\u001b[31m---------------------------------------------------------------------------\u001b[39m",
      "\u001b[31mModuleNotFoundError\u001b[39m                       Traceback (most recent call last)",
      "\u001b[36mCell\u001b[39m\u001b[36m \u001b[39m\u001b[32mIn[44]\u001b[39m\u001b[32m, line 1\u001b[39m\n\u001b[32m----> \u001b[39m\u001b[32m1\u001b[39m \u001b[38;5;28;01mfrom\u001b[39;00m\u001b[38;5;250m \u001b[39m\u001b[34;01myellowbrick\u001b[39;00m\u001b[34;01m.\u001b[39;00m\u001b[34;01mmodel_selection\u001b[39;00m\u001b[38;5;250m \u001b[39m\u001b[38;5;28;01mimport\u001b[39;00m validation_curve\n\u001b[32m      3\u001b[39m fig, ax = plt.subplots(figsize=(\u001b[32m10\u001b[39m,\u001b[32m4\u001b[39m))\n\u001b[32m      4\u001b[39m viz = validation_curve(tree.DecisionTreeClassifier(),\n\u001b[32m      5\u001b[39m X=pd.concat([X_train, X_test]),\n\u001b[32m      6\u001b[39m y=pd.concat([kag_y_train, kag_y_test]),\n\u001b[32m      7\u001b[39m param_name=\u001b[33m'\u001b[39m\u001b[33mmax_depth\u001b[39m\u001b[33m'\u001b[39m, param_range=\u001b[38;5;28mrange\u001b[39m(\u001b[32m1\u001b[39m,\u001b[32m14\u001b[39m),\n\u001b[32m      8\u001b[39m scoring=\u001b[33m'\u001b[39m\u001b[33maccuracy\u001b[39m\u001b[33m'\u001b[39m, cv=\u001b[32m5\u001b[39m, ax=ax, n_jobs=\u001b[32m6\u001b[39m)\n",
      "\u001b[36mFile \u001b[39m\u001b[32mc:\\Users\\Administrator\\AppData\\Local\\Programs\\Python\\Python313\\Lib\\site-packages\\yellowbrick\\__init__.py:31\u001b[39m\n\u001b[32m     28\u001b[39m \u001b[38;5;28;01mfrom\u001b[39;00m\u001b[38;5;250m \u001b[39m\u001b[34;01m.\u001b[39;00m\u001b[34;01mversion\u001b[39;00m\u001b[38;5;250m \u001b[39m\u001b[38;5;28;01mimport\u001b[39;00m get_version, __version_info__\n\u001b[32m     30\u001b[39m \u001b[38;5;66;03m# Import the style management functions\u001b[39;00m\n\u001b[32m---> \u001b[39m\u001b[32m31\u001b[39m \u001b[38;5;28;01mfrom\u001b[39;00m\u001b[38;5;250m \u001b[39m\u001b[34;01m.\u001b[39;00m\u001b[34;01mstyle\u001b[39;00m\u001b[34;01m.\u001b[39;00m\u001b[34;01mrcmod\u001b[39;00m\u001b[38;5;250m \u001b[39m\u001b[38;5;28;01mimport\u001b[39;00m reset_defaults, reset_orig\n\u001b[32m     32\u001b[39m \u001b[38;5;28;01mfrom\u001b[39;00m\u001b[38;5;250m \u001b[39m\u001b[34;01m.\u001b[39;00m\u001b[34;01mstyle\u001b[39;00m\u001b[34;01m.\u001b[39;00m\u001b[34;01mrcmod\u001b[39;00m\u001b[38;5;250m \u001b[39m\u001b[38;5;28;01mimport\u001b[39;00m set_aesthetic, set_style, set_palette\n\u001b[32m     33\u001b[39m \u001b[38;5;28;01mfrom\u001b[39;00m\u001b[38;5;250m \u001b[39m\u001b[34;01m.\u001b[39;00m\u001b[34;01mstyle\u001b[39;00m\u001b[34;01m.\u001b[39;00m\u001b[34;01mpalettes\u001b[39;00m\u001b[38;5;250m \u001b[39m\u001b[38;5;28;01mimport\u001b[39;00m color_palette, set_color_codes\n",
      "\u001b[36mFile \u001b[39m\u001b[32mc:\\Users\\Administrator\\AppData\\Local\\Programs\\Python\\Python313\\Lib\\site-packages\\yellowbrick\\style\\__init__.py:20\u001b[39m\n\u001b[32m     12\u001b[39m \u001b[33;03m\"\"\"\u001b[39;00m\n\u001b[32m     13\u001b[39m \u001b[33;03mManage the style and aesthetic of the yellowbrick library.\u001b[39;00m\n\u001b[32m     14\u001b[39m \u001b[33;03m\"\"\"\u001b[39;00m\n\u001b[32m     16\u001b[39m \u001b[38;5;66;03m##########################################################################\u001b[39;00m\n\u001b[32m     17\u001b[39m \u001b[38;5;66;03m## Imports\u001b[39;00m\n\u001b[32m     18\u001b[39m \u001b[38;5;66;03m##########################################################################\u001b[39;00m\n\u001b[32m---> \u001b[39m\u001b[32m20\u001b[39m \u001b[38;5;28;01mfrom\u001b[39;00m\u001b[38;5;250m \u001b[39m\u001b[34;01m.\u001b[39;00m\u001b[34;01mcolors\u001b[39;00m\u001b[38;5;250m \u001b[39m\u001b[38;5;28;01mimport\u001b[39;00m *\n\u001b[32m     21\u001b[39m \u001b[38;5;28;01mfrom\u001b[39;00m\u001b[38;5;250m \u001b[39m\u001b[34;01m.\u001b[39;00m\u001b[34;01mpalettes\u001b[39;00m\u001b[38;5;250m \u001b[39m\u001b[38;5;28;01mimport\u001b[39;00m *\n\u001b[32m     22\u001b[39m \u001b[38;5;28;01mfrom\u001b[39;00m\u001b[38;5;250m \u001b[39m\u001b[34;01m.\u001b[39;00m\u001b[34;01mrcmod\u001b[39;00m\u001b[38;5;250m \u001b[39m\u001b[38;5;28;01mimport\u001b[39;00m *\n",
      "\u001b[36mFile \u001b[39m\u001b[32mc:\\Users\\Administrator\\AppData\\Local\\Programs\\Python\\Python313\\Lib\\site-packages\\yellowbrick\\style\\colors.py:33\u001b[39m\n\u001b[32m     29\u001b[39m \u001b[38;5;28;01mfrom\u001b[39;00m\u001b[38;5;250m \u001b[39m\u001b[34;01myellowbrick\u001b[39;00m\u001b[34;01m.\u001b[39;00m\u001b[34;01mexceptions\u001b[39;00m\u001b[38;5;250m \u001b[39m\u001b[38;5;28;01mimport\u001b[39;00m YellowbrickValueError\n\u001b[32m     32\u001b[39m \u001b[38;5;66;03m# Check to see if matplotlib is at least sorta up to date\u001b[39;00m\n\u001b[32m---> \u001b[39m\u001b[32m33\u001b[39m \u001b[38;5;28;01mfrom\u001b[39;00m\u001b[38;5;250m \u001b[39m\u001b[34;01mdistutils\u001b[39;00m\u001b[34;01m.\u001b[39;00m\u001b[34;01mversion\u001b[39;00m\u001b[38;5;250m \u001b[39m\u001b[38;5;28;01mimport\u001b[39;00m LooseVersion\n\u001b[32m     35\u001b[39m mpl_ge_150 = LooseVersion(mpl.__version__) >= \u001b[33m\"\u001b[39m\u001b[33m1.5.0\u001b[39m\u001b[33m\"\u001b[39m\n\u001b[32m     38\u001b[39m \u001b[38;5;66;03m##########################################################################\u001b[39;00m\n\u001b[32m     39\u001b[39m \u001b[38;5;66;03m## Color Utilities\u001b[39;00m\n\u001b[32m     40\u001b[39m \u001b[38;5;66;03m##########################################################################\u001b[39;00m\n",
      "\u001b[31mModuleNotFoundError\u001b[39m: No module named 'distutils'"
     ]
    }
   ],
   "source": [
    "from yellowbrick.model_selection import validation_curve\n",
    "\n",
    "fig, ax = plt.subplots(figsize=(10,4))\n",
    "viz = validation_curve(tree.DecisionTreeClassifier(),\n",
    "X=pd.concat([X_train, X_test]),\n",
    "y=pd.concat([kag_y_train, kag_y_test]),\n",
    "param_name='max_depth', param_range=range(1,14),\n",
    "scoring='accuracy', cv=5, ax=ax, n_jobs=6)"
   ]
  },
  {
   "cell_type": "code",
   "execution_count": null,
   "metadata": {},
   "outputs": [],
   "source": []
  },
  {
   "cell_type": "code",
   "execution_count": null,
   "metadata": {},
   "outputs": [],
   "source": []
  }
 ],
 "metadata": {
  "kernelspec": {
   "display_name": "Python 3",
   "language": "python",
   "name": "python3"
  },
  "language_info": {
   "codemirror_mode": {
    "name": "ipython",
    "version": 3
   },
   "file_extension": ".py",
   "mimetype": "text/x-python",
   "name": "python",
   "nbconvert_exporter": "python",
   "pygments_lexer": "ipython3",
   "version": "3.13.2"
  }
 },
 "nbformat": 4,
 "nbformat_minor": 2
}
